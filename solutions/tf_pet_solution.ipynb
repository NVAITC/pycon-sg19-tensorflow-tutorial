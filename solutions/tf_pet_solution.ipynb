{
 "cells": [
  {
   "cell_type": "markdown",
   "metadata": {
    "colab_type": "text",
    "id": "laUXS-24UvPM"
   },
   "source": [
    "## Setup"
   ]
  },
  {
   "cell_type": "code",
   "execution_count": 1,
   "metadata": {
    "colab": {},
    "colab_type": "code",
    "id": "1Nn_XUbFUVah"
   },
   "outputs": [],
   "source": [
    "!pip install tensorflow-gpu==2.0 tensorflow_datasets gpustat -Uq"
   ]
  },
  {
   "cell_type": "markdown",
   "metadata": {
    "colab_type": "text",
    "id": "mgLK3zv_Vsy8"
   },
   "source": [
    "**About**\n",
    "\n",
    "<img src=\"https://upload.wikimedia.org/wikipedia/en/thumb/6/6d/Nvidia_image_logo.svg/200px-Nvidia_image_logo.svg.png\" width=\"90px\" align=\"right\" style=\"margin-right: 0px;\">\n",
    "\n",
    "This notebook is put together by Timothy Liu (`timothyl@nvidia.com`) for the [**PyCon SG**](https://pycon.sg/) 2019 tutorial on [**Improving Deep Learning Performance in TensorFlow**](https://github.com/NVAITC/pycon-sg19-tensorflow-tutorial).\n",
    "\n",
    "**Acknowledgements**\n",
    "\n",
    "* This notebook uses some materials adapted from TensorFlow documentation.\n",
    "* This notebook uses the [Oxford IIT Pet Dataset](http://www.robots.ox.ac.uk/~vgg/data/pets/) ([TensorFlow Datasets page](https://www.tensorflow.org/datasets/catalog/oxford_iiit_pet)).\n",
    "\n",
    "**Dataset Citation**\n",
    "\n",
    "```\n",
    "@InProceedings{parkhi12a,\n",
    "  author       = \"Parkhi, O. M. and Vedaldi, A. and Zisserman, A. and Jawahar, C.~V.\",\n",
    "  title        = \"Cats and Dogs\",\n",
    "  booktitle    = \"IEEE Conference on Computer Vision and Pattern Recognition\",\n",
    "  year         = \"2012\",\n",
    "}\n",
    "```"
   ]
  },
  {
   "cell_type": "code",
   "execution_count": 2,
   "metadata": {
    "colab": {
     "base_uri": "https://localhost:8080/",
     "height": 0
    },
    "colab_type": "code",
    "executionInfo": {
     "elapsed": 7175,
     "status": "ok",
     "timestamp": 1570473634312,
     "user": {
      "displayName": "Timothy Liu SG",
      "photoUrl": "",
      "userId": "04327513636844080478"
     },
     "user_tz": -480
    },
    "id": "zNbGLsDSUe3W",
    "outputId": "4e551e00-c5a8-4d41-f6c2-7269f7941a68"
   },
   "outputs": [
    {
     "name": "stdout",
     "output_type": "stream",
     "text": [
      "TensorFlow version: 2.0.0\n"
     ]
    }
   ],
   "source": [
    "import multiprocessing\n",
    "\n",
    "import tensorflow\n",
    "print(\"TensorFlow version:\", tensorflow.__version__)\n",
    "\n",
    "import tensorflow.compat.v2 as tf\n",
    "import tensorflow_datasets as tfds"
   ]
  },
  {
   "cell_type": "code",
   "execution_count": 3,
   "metadata": {},
   "outputs": [],
   "source": [
    "import time\n",
    "\n",
    "class TimeHistory(tf.keras.callbacks.Callback):\n",
    "    def on_train_begin(self, logs={}):\n",
    "        self.times = []\n",
    "    def on_epoch_begin(self, epoch, logs={}):\n",
    "        self.epoch_time_start = time.time()\n",
    "    def on_epoch_end(self, epoch, logs={}):\n",
    "        self.times.append(time.time() - self.epoch_time_start)"
   ]
  },
  {
   "cell_type": "markdown",
   "metadata": {
    "colab_type": "text",
    "id": "ObRNSvQMUxbI"
   },
   "source": [
    "# Pets Classification with TensorFlow"
   ]
  },
  {
   "cell_type": "code",
   "execution_count": 4,
   "metadata": {
    "colab": {
     "base_uri": "https://localhost:8080/",
     "height": 51
    },
    "colab_type": "code",
    "executionInfo": {
     "elapsed": 9897,
     "status": "ok",
     "timestamp": 1570473637050,
     "user": {
      "displayName": "Timothy Liu SG",
      "photoUrl": "",
      "userId": "04327513636844080478"
     },
     "user_tz": -480
    },
    "id": "KaI6MAuJPNDV",
    "outputId": "089e1e0d-0fef-4e15-c54d-62153d7f5f96"
   },
   "outputs": [
    {
     "name": "stdout",
     "output_type": "stream",
     "text": [
      "\u001b[1m\u001b[37m8cbe20438cea           \u001b[m  Fri Oct 11 12:33:32 2019  \u001b[1m\u001b[30m410.129\u001b[m\n",
      "\u001b[36m[0]\u001b[m \u001b[34mTesla V100-DGXS-16GB\u001b[m |\u001b[31m 42'C\u001b[m, \u001b[32m  0 %\u001b[m | \u001b[36m\u001b[1m\u001b[33m  154\u001b[m / \u001b[33m16125\u001b[m MB |\n",
      "\u001b[36m[1]\u001b[m \u001b[34mTesla V100-DGXS-16GB\u001b[m |\u001b[31m 41'C\u001b[m, \u001b[32m  0 %\u001b[m | \u001b[36m\u001b[1m\u001b[33m    0\u001b[m / \u001b[33m16128\u001b[m MB |\n",
      "\u001b[36m[2]\u001b[m \u001b[34mTesla V100-DGXS-16GB\u001b[m |\u001b[31m 42'C\u001b[m, \u001b[32m  0 %\u001b[m | \u001b[36m\u001b[1m\u001b[33m    0\u001b[m / \u001b[33m16128\u001b[m MB |\n",
      "\u001b[36m[3]\u001b[m \u001b[34mTesla V100-DGXS-16GB\u001b[m |\u001b[31m 41'C\u001b[m, \u001b[32m  0 %\u001b[m | \u001b[36m\u001b[1m\u001b[33m    0\u001b[m / \u001b[33m16128\u001b[m MB |\n"
     ]
    }
   ],
   "source": [
    "!gpustat"
   ]
  },
  {
   "cell_type": "code",
   "execution_count": 5,
   "metadata": {
    "colab": {},
    "colab_type": "code",
    "id": "BCK57jlvNpOO"
   },
   "outputs": [],
   "source": [
    "import tensorflow.keras.layers as layers\n",
    "from tensorflow.keras.applications.resnet50 import ResNet50\n",
    "\n",
    "def create_model(img_size=(224,224), num_class=2, train_base=True):\n",
    "    input_layer = layers.Input(shape=(img_size[0],img_size[1],3), dtype=tf.float16)\n",
    "    base = ResNet50(input_tensor=input_layer,\n",
    "                    include_top=False,\n",
    "                    weights=\"imagenet\")\n",
    "    base.trainable = train_base\n",
    "    x = base.output\n",
    "    x = layers.GlobalAveragePooling2D()(x)\n",
    "    preds = layers.Dense(num_class, activation=\"softmax\", dtype=tf.float32)(x)\n",
    "    return tf.keras.models.Model(inputs=input_layer, outputs=preds)"
   ]
  },
  {
   "cell_type": "code",
   "execution_count": 6,
   "metadata": {},
   "outputs": [],
   "source": [
    "# enable XLA\n",
    "tf.config.optimizer.set_jit(True)\n",
    "\n",
    "# enable AMP\n",
    "tf.keras.mixed_precision.experimental.set_policy('mixed_float16')"
   ]
  },
  {
   "cell_type": "code",
   "execution_count": 7,
   "metadata": {
    "colab": {},
    "colab_type": "code",
    "id": "ICDyhaNCdNsm"
   },
   "outputs": [],
   "source": [
    "(train_dataset, test_dataset), info = tfds.load(name=\"oxford_iiit_pet:3.*.*\",\n",
    "                                                split=[\"train\", \"test\"],\n",
    "                                                shuffle_files=True,\n",
    "                                                as_supervised=True,\n",
    "                                                with_info=True)\n",
    "\n",
    "num_class = info.features[\"label\"].num_classes\n",
    "num_train = info.splits[\"train\"].num_examples\n",
    "num_test  = info.splits[\"test\"].num_examples"
   ]
  },
  {
   "cell_type": "code",
   "execution_count": 8,
   "metadata": {
    "colab": {},
    "colab_type": "code",
    "id": "MdWvubj3g2aO"
   },
   "outputs": [],
   "source": [
    "IMG_SIZE = (224, 224)\n",
    "\n",
    "@tf.function\n",
    "def format_train_example(image, label):\n",
    "    image = tf.cast(image, tf.float32)\n",
    "    image = (image/127.5) - 1\n",
    "    image = tf.image.resize(image, IMG_SIZE)\n",
    "    # perform image augmentation with tf.image\n",
    "    image = tf.image.flip_left_right(image)\n",
    "    image = tf.image.random_brightness(image, 0.1)\n",
    "    image = tf.cast(image, tf.float16)\n",
    "    return image, tf.one_hot(label, num_class)\n",
    "\n",
    "@tf.function\n",
    "def format_eval_example(image, label):\n",
    "    image = tf.cast(image, tf.float32)\n",
    "    image = (image/127.5) - 1\n",
    "    image = tf.image.resize(image, IMG_SIZE)\n",
    "    image = tf.cast(image, tf.float16)\n",
    "    return image, tf.one_hot(label, num_class)"
   ]
  },
  {
   "cell_type": "code",
   "execution_count": 9,
   "metadata": {
    "colab": {},
    "colab_type": "code",
    "id": "GbsEAoP8XKib"
   },
   "outputs": [],
   "source": [
    "BATCH_SIZE = 80\n",
    "N_THREADS = multiprocessing.cpu_count()\n",
    "PREFETCH_COUNT = 8\n",
    "\n",
    "train_dataset = train_dataset.shuffle(1024)\n",
    "train_dataset = train_dataset.repeat(-1)\n",
    "train_dataset = train_dataset.map(format_train_example,\n",
    "                                  num_parallel_calls=N_THREADS)\n",
    "train_dataset = train_dataset.batch(BATCH_SIZE)\n",
    "train_dataset = train_dataset.prefetch(PREFETCH_COUNT)"
   ]
  },
  {
   "cell_type": "code",
   "execution_count": 10,
   "metadata": {
    "colab": {},
    "colab_type": "code",
    "id": "7-OAQB-0jb-r"
   },
   "outputs": [],
   "source": [
    "test_dataset = test_dataset.map(format_eval_example,\n",
    "                                num_parallel_calls=N_THREADS)\n",
    "test_dataset = test_dataset.repeat(-1)\n",
    "test_dataset = test_dataset.batch(BATCH_SIZE)"
   ]
  },
  {
   "cell_type": "code",
   "execution_count": 11,
   "metadata": {
    "colab": {
     "base_uri": "https://localhost:8080/",
     "height": 51
    },
    "colab_type": "code",
    "executionInfo": {
     "elapsed": 24373,
     "status": "ok",
     "timestamp": 1570473651568,
     "user": {
      "displayName": "Timothy Liu SG",
      "photoUrl": "",
      "userId": "04327513636844080478"
     },
     "user_tz": -480
    },
    "id": "YAwj90pGOIAy",
    "outputId": "8dfaabf3-1eab-402b-9897-42a0a45235a8"
   },
   "outputs": [],
   "source": [
    "model = create_model(IMG_SIZE, num_class, train_base=True)\n",
    "opt = tf.keras.optimizers.Adam()\n",
    "\n",
    "model.compile(loss=\"categorical_crossentropy\",\n",
    "              optimizer=opt,\n",
    "              metrics=[\"acc\"])\n",
    "\n",
    "#model.summary()"
   ]
  },
  {
   "cell_type": "code",
   "execution_count": 12,
   "metadata": {
    "colab": {},
    "colab_type": "code",
    "id": "0vRtm2rORBHf"
   },
   "outputs": [],
   "source": [
    "steps_per_epoch = num_train//BATCH_SIZE\n",
    "steps_test = num_test//BATCH_SIZE\n",
    "\n",
    "time_callback = TimeHistory()"
   ]
  },
  {
   "cell_type": "code",
   "execution_count": 13,
   "metadata": {
    "colab": {
     "base_uri": "https://localhost:8080/",
     "height": 153
    },
    "colab_type": "code",
    "executionInfo": {
     "elapsed": 132772,
     "status": "ok",
     "timestamp": 1570473759978,
     "user": {
      "displayName": "Timothy Liu SG",
      "photoUrl": "",
      "userId": "04327513636844080478"
     },
     "user_tz": -480
    },
    "id": "7T8VVrn4Q12B",
    "outputId": "d5b7a7c7-0970-45ef-898e-283abfe787a6"
   },
   "outputs": [
    {
     "name": "stdout",
     "output_type": "stream",
     "text": [
      "Train for 46 steps\n",
      "Epoch 1/5\n",
      "46/46 [==============================] - 54s 1s/step - loss: 1.7302 - acc: 0.5120\n",
      "Epoch 2/5\n",
      "46/46 [==============================] - 4s 94ms/step - loss: 0.7215 - acc: 0.7687\n",
      "Epoch 3/5\n",
      "46/46 [==============================] - 4s 94ms/step - loss: 0.3327 - acc: 0.8932\n",
      "Epoch 4/5\n",
      "46/46 [==============================] - 4s 94ms/step - loss: 0.2153 - acc: 0.9296\n",
      "Epoch 5/5\n",
      "46/46 [==============================] - 4s 94ms/step - loss: 0.1867 - acc: 0.9402\n"
     ]
    },
    {
     "data": {
      "text/plain": [
       "<tensorflow.python.keras.callbacks.History at 0x7f7a14615c50>"
      ]
     },
     "execution_count": 13,
     "metadata": {},
     "output_type": "execute_result"
    }
   ],
   "source": [
    "model.fit(train_dataset, steps_per_epoch=steps_per_epoch,\n",
    "          epochs=5, callbacks=[time_callback], verbose=1)"
   ]
  },
  {
   "cell_type": "code",
   "execution_count": 14,
   "metadata": {
    "colab": {},
    "colab_type": "code",
    "id": "X9rz7x6GPP29"
   },
   "outputs": [],
   "source": [
    "# There is currently a bug with model.evaluate()\n",
    "# Follow: https://github.com/tensorflow/tensorflow/issues/33090\n",
    "\n",
    "#model.evaluate(train_dataset, steps=steps_per_epoch)"
   ]
  },
  {
   "cell_type": "code",
   "execution_count": 15,
   "metadata": {
    "colab": {},
    "colab_type": "code",
    "id": "21CjKwKsjIiy"
   },
   "outputs": [
    {
     "name": "stdout",
     "output_type": "stream",
     "text": [
      "Peak Img/s: 851.0\n"
     ]
    }
   ],
   "source": [
    "epoch_time = min(time_callback.times)\n",
    "img_per_sec = num_train//epoch_time\n",
    "\n",
    "print(\"Peak Img/s:\", img_per_sec)"
   ]
  },
  {
   "cell_type": "code",
   "execution_count": null,
   "metadata": {},
   "outputs": [],
   "source": []
  }
 ],
 "metadata": {
  "accelerator": "GPU",
  "colab": {
   "collapsed_sections": [
    "laUXS-24UvPM"
   ],
   "name": "tf_pet_base.ipynb",
   "provenance": [],
   "toc_visible": true
  },
  "kernelspec": {
   "display_name": "Python 3",
   "language": "python",
   "name": "python3"
  },
  "language_info": {
   "codemirror_mode": {
    "name": "ipython",
    "version": 3
   },
   "file_extension": ".py",
   "mimetype": "text/x-python",
   "name": "python",
   "nbconvert_exporter": "python",
   "pygments_lexer": "ipython3",
   "version": "3.6.7"
  }
 },
 "nbformat": 4,
 "nbformat_minor": 4
}
