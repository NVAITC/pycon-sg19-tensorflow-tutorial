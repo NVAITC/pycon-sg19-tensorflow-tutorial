{
 "cells": [
  {
   "cell_type": "markdown",
   "metadata": {
    "colab_type": "text",
    "id": "laUXS-24UvPM"
   },
   "source": [
    "## Setup"
   ]
  },
  {
   "cell_type": "code",
   "execution_count": 1,
   "metadata": {
    "colab": {},
    "colab_type": "code",
    "id": "1Nn_XUbFUVah"
   },
   "outputs": [],
   "source": [
    "!pip install tensorflow-gpu==2.0 tensorflow_datasets gpustat -Uq"
   ]
  },
  {
   "cell_type": "markdown",
   "metadata": {
    "colab_type": "text",
    "id": "mgLK3zv_Vsy8"
   },
   "source": [
    "**About**\n",
    "\n",
    "<img src=\"https://upload.wikimedia.org/wikipedia/en/thumb/6/6d/Nvidia_image_logo.svg/200px-Nvidia_image_logo.svg.png\" width=\"90px\" align=\"right\" style=\"margin-right: 0px;\">\n",
    "\n",
    "This notebook is put together by Timothy Liu (`timothyl@nvidia.com`) for the [**PyCon SG**](https://pycon.sg/) 2019 tutorial on [**Improving Deep Learning Performance in TensorFlow**](https://github.com/NVAITC/pycon-sg19-tensorflow-tutorial).\n",
    "\n",
    "**Acknowledgements**\n",
    "\n",
    "* This notebook uses some materials adapted from TensorFlow documentation.\n",
    "* This notebook uses the [Oxford IIT Pet Dataset](http://www.robots.ox.ac.uk/~vgg/data/pets/) ([TensorFlow Datasets page](https://www.tensorflow.org/datasets/catalog/oxford_iiit_pet)).\n",
    "\n",
    "**Dataset Citation**\n",
    "\n",
    "```\n",
    "@InProceedings{parkhi12a,\n",
    "  author       = \"Parkhi, O. M. and Vedaldi, A. and Zisserman, A. and Jawahar, C.~V.\",\n",
    "  title        = \"Cats and Dogs\",\n",
    "  booktitle    = \"IEEE Conference on Computer Vision and Pattern Recognition\",\n",
    "  year         = \"2012\",\n",
    "}\n",
    "```"
   ]
  },
  {
   "cell_type": "code",
   "execution_count": 2,
   "metadata": {
    "colab": {
     "base_uri": "https://localhost:8080/",
     "height": 0
    },
    "colab_type": "code",
    "executionInfo": {
     "elapsed": 7175,
     "status": "ok",
     "timestamp": 1570473634312,
     "user": {
      "displayName": "Timothy Liu SG",
      "photoUrl": "",
      "userId": "04327513636844080478"
     },
     "user_tz": -480
    },
    "id": "zNbGLsDSUe3W",
    "outputId": "4e551e00-c5a8-4d41-f6c2-7269f7941a68"
   },
   "outputs": [
    {
     "name": "stdout",
     "output_type": "stream",
     "text": [
      "TensorFlow version: 2.0.0\n"
     ]
    }
   ],
   "source": [
    "import multiprocessing\n",
    "\n",
    "import tensorflow\n",
    "print(\"TensorFlow version:\", tensorflow.__version__)\n",
    "\n",
    "import tensorflow.compat.v2 as tf\n",
    "import tensorflow_datasets as tfds"
   ]
  },
  {
   "cell_type": "code",
   "execution_count": 3,
   "metadata": {},
   "outputs": [],
   "source": [
    "import time\n",
    "\n",
    "class TimeHistory(tf.keras.callbacks.Callback):\n",
    "    def on_train_begin(self, logs={}):\n",
    "        self.times = []\n",
    "    def on_epoch_begin(self, epoch, logs={}):\n",
    "        self.epoch_time_start = time.time()\n",
    "    def on_epoch_end(self, epoch, logs={}):\n",
    "        self.times.append(time.time() - self.epoch_time_start)"
   ]
  },
  {
   "cell_type": "markdown",
   "metadata": {
    "colab_type": "text",
    "id": "ObRNSvQMUxbI"
   },
   "source": [
    "# Pets Classification with TensorFlow"
   ]
  },
  {
   "cell_type": "code",
   "execution_count": 4,
   "metadata": {
    "colab": {
     "base_uri": "https://localhost:8080/",
     "height": 51
    },
    "colab_type": "code",
    "executionInfo": {
     "elapsed": 9897,
     "status": "ok",
     "timestamp": 1570473637050,
     "user": {
      "displayName": "Timothy Liu SG",
      "photoUrl": "",
      "userId": "04327513636844080478"
     },
     "user_tz": -480
    },
    "id": "KaI6MAuJPNDV",
    "outputId": "089e1e0d-0fef-4e15-c54d-62153d7f5f96"
   },
   "outputs": [
    {
     "name": "stdout",
     "output_type": "stream",
     "text": [
      "\u001b[1m\u001b[37mjupyter-admin      \u001b[m  Fri Oct 11 16:48:49 2019  \u001b[1m\u001b[30m410.104\u001b[m\n",
      "\u001b[36m[0]\u001b[m \u001b[34mTesla T4        \u001b[m |\u001b[31m 43'C\u001b[m, \u001b[32m  0 %\u001b[m | \u001b[36m\u001b[1m\u001b[33m    0\u001b[m / \u001b[33m15079\u001b[m MB |\n"
     ]
    }
   ],
   "source": [
    "!gpustat"
   ]
  },
  {
   "cell_type": "code",
   "execution_count": 5,
   "metadata": {
    "colab": {},
    "colab_type": "code",
    "id": "BCK57jlvNpOO"
   },
   "outputs": [],
   "source": [
    "import tensorflow.keras.layers as layers\n",
    "from tensorflow.keras.applications.resnet50 import ResNet50\n",
    "\n",
    "def create_model(img_size=(224,224), num_class=2, train_base=True):\n",
    "    input_layer = layers.Input(shape=(img_size[0],img_size[1],3))\n",
    "    base = ResNet50(input_tensor=input_layer,\n",
    "                    include_top=False,\n",
    "                    weights=\"imagenet\")\n",
    "    base.trainable = train_base\n",
    "    x = base.output\n",
    "    x = layers.GlobalAveragePooling2D()(x)\n",
    "    preds = layers.Dense(num_class, activation=\"softmax\")(x)\n",
    "    return tf.keras.models.Model(inputs=input_layer, outputs=preds)"
   ]
  },
  {
   "cell_type": "code",
   "execution_count": 6,
   "metadata": {
    "colab": {},
    "colab_type": "code",
    "id": "ICDyhaNCdNsm"
   },
   "outputs": [
    {
     "name": "stdout",
     "output_type": "stream",
     "text": [
      "\u001b[1mDownloading and preparing dataset oxford_iiit_pet (801.24 MiB) to /home/jovyan/tensorflow_datasets/oxford_iiit_pet/3.0.0...\u001b[0m\n"
     ]
    },
    {
     "data": {
      "application/vnd.jupyter.widget-view+json": {
       "model_id": "c696f88ca38f485cb2986f920fff3cc1",
       "version_major": 2,
       "version_minor": 0
      },
      "text/plain": [
       "HBox(children=(IntProgress(value=1, bar_style='info', description='Dl Completed...', max=1, style=ProgressStyl…"
      ]
     },
     "metadata": {},
     "output_type": "display_data"
    },
    {
     "data": {
      "application/vnd.jupyter.widget-view+json": {
       "model_id": "4733f929cecc455894a222e7f688483a",
       "version_major": 2,
       "version_minor": 0
      },
      "text/plain": [
       "HBox(children=(IntProgress(value=1, bar_style='info', description='Dl Size...', max=1, style=ProgressStyle(des…"
      ]
     },
     "metadata": {},
     "output_type": "display_data"
    },
    {
     "data": {
      "application/vnd.jupyter.widget-view+json": {
       "model_id": "762fa84f21684f3698ea3c9fbafed06b",
       "version_major": 2,
       "version_minor": 0
      },
      "text/plain": [
       "HBox(children=(IntProgress(value=1, bar_style='info', description='Extraction completed...', max=1, style=Prog…"
      ]
     },
     "metadata": {},
     "output_type": "display_data"
    },
    {
     "name": "stdout",
     "output_type": "stream",
     "text": [
      "\n",
      "\n",
      "\n",
      "\n",
      "\n",
      "\n"
     ]
    },
    {
     "data": {
      "application/vnd.jupyter.widget-view+json": {
       "model_id": "",
       "version_major": 2,
       "version_minor": 0
      },
      "text/plain": [
       "HBox(children=(IntProgress(value=1, bar_style='info', max=1), HTML(value='')))"
      ]
     },
     "metadata": {},
     "output_type": "display_data"
    },
    {
     "name": "stdout",
     "output_type": "stream",
     "text": [
      "Shuffling and writing examples to /home/jovyan/tensorflow_datasets/oxford_iiit_pet/3.0.0.incompleteN3JX06/oxford_iiit_pet-train.tfrecord\n"
     ]
    },
    {
     "data": {
      "application/vnd.jupyter.widget-view+json": {
       "model_id": "",
       "version_major": 2,
       "version_minor": 0
      },
      "text/plain": [
       "HBox(children=(IntProgress(value=0, max=3680), HTML(value='')))"
      ]
     },
     "metadata": {},
     "output_type": "display_data"
    },
    {
     "name": "stdout",
     "output_type": "stream",
     "text": [
      "\r"
     ]
    },
    {
     "data": {
      "application/vnd.jupyter.widget-view+json": {
       "model_id": "",
       "version_major": 2,
       "version_minor": 0
      },
      "text/plain": [
       "HBox(children=(IntProgress(value=1, bar_style='info', max=1), HTML(value='')))"
      ]
     },
     "metadata": {},
     "output_type": "display_data"
    },
    {
     "name": "stdout",
     "output_type": "stream",
     "text": [
      "Shuffling and writing examples to /home/jovyan/tensorflow_datasets/oxford_iiit_pet/3.0.0.incompleteN3JX06/oxford_iiit_pet-test.tfrecord\n"
     ]
    },
    {
     "data": {
      "application/vnd.jupyter.widget-view+json": {
       "model_id": "",
       "version_major": 2,
       "version_minor": 0
      },
      "text/plain": [
       "HBox(children=(IntProgress(value=0, max=3669), HTML(value='')))"
      ]
     },
     "metadata": {},
     "output_type": "display_data"
    },
    {
     "name": "stdout",
     "output_type": "stream",
     "text": [
      "\r"
     ]
    },
    {
     "data": {
      "application/vnd.jupyter.widget-view+json": {
       "model_id": "7b21228390c643e8a1ba4e9e512627ff",
       "version_major": 2,
       "version_minor": 0
      },
      "text/plain": [
       "HBox(children=(IntProgress(value=0, description='Computing statistics...', max=2, style=ProgressStyle(descript…"
      ]
     },
     "metadata": {},
     "output_type": "display_data"
    },
    {
     "data": {
      "application/vnd.jupyter.widget-view+json": {
       "model_id": "",
       "version_major": 2,
       "version_minor": 0
      },
      "text/plain": [
       "HBox(children=(IntProgress(value=1, bar_style='info', max=1), HTML(value='')))"
      ]
     },
     "metadata": {},
     "output_type": "display_data"
    },
    {
     "name": "stderr",
     "output_type": "stream",
     "text": [
      "WARNING:absl:Warning: Setting shuffle_files=True because split=TRAIN and shuffle_files=None. This behavior will be deprecated on 2019-08-06, at which point shuffle_files=False will be the default for all splits.\n"
     ]
    },
    {
     "data": {
      "application/vnd.jupyter.widget-view+json": {
       "model_id": "",
       "version_major": 2,
       "version_minor": 0
      },
      "text/plain": [
       "HBox(children=(IntProgress(value=1, bar_style='info', max=1), HTML(value='')))"
      ]
     },
     "metadata": {},
     "output_type": "display_data"
    },
    {
     "name": "stdout",
     "output_type": "stream",
     "text": [
      "\n",
      "\u001b[1mDataset oxford_iiit_pet downloaded and prepared to /home/jovyan/tensorflow_datasets/oxford_iiit_pet/3.0.0. Subsequent calls will reuse this data.\u001b[0m\n"
     ]
    }
   ],
   "source": [
    "(train_dataset, test_dataset), info = tfds.load(name=\"oxford_iiit_pet:3.*.*\",\n",
    "                                                split=[\"train\", \"test\"],\n",
    "                                                shuffle_files=True,\n",
    "                                                as_supervised=True,\n",
    "                                                with_info=True)\n",
    "\n",
    "num_class = info.features[\"label\"].num_classes\n",
    "num_train = info.splits[\"train\"].num_examples\n",
    "num_test  = info.splits[\"test\"].num_examples"
   ]
  },
  {
   "cell_type": "code",
   "execution_count": 7,
   "metadata": {
    "colab": {},
    "colab_type": "code",
    "id": "MdWvubj3g2aO"
   },
   "outputs": [],
   "source": [
    "IMG_SIZE = (224, 224)\n",
    "\n",
    "@tf.function\n",
    "def format_train_example(image, label):\n",
    "    image = tf.cast(image, tf.float32)\n",
    "    image = (image/127.5) - 1\n",
    "    image = tf.image.resize(image, IMG_SIZE)\n",
    "    # perform image augmentation with tf.image\n",
    "    image = tf.image.flip_left_right(image)\n",
    "    image = tf.image.random_brightness(image, 0.1)\n",
    "    return image, tf.one_hot(label, num_class)\n",
    "\n",
    "@tf.function\n",
    "def format_eval_example(image, label):\n",
    "    image = tf.cast(image, tf.float32)\n",
    "    image = (image/127.5) - 1\n",
    "    image = tf.image.resize(image, IMG_SIZE)\n",
    "    return image, tf.one_hot(label, num_class)"
   ]
  },
  {
   "cell_type": "code",
   "execution_count": 8,
   "metadata": {
    "colab": {},
    "colab_type": "code",
    "id": "GbsEAoP8XKib"
   },
   "outputs": [],
   "source": [
    "BATCH_SIZE = 80\n",
    "N_THREADS = multiprocessing.cpu_count()\n",
    "PREFETCH_COUNT = 8\n",
    "\n",
    "train_dataset = train_dataset.shuffle(1024)\n",
    "train_dataset = train_dataset.repeat(-1)\n",
    "train_dataset = train_dataset.map(format_train_example,\n",
    "                                  num_parallel_calls=N_THREADS)\n",
    "train_dataset = train_dataset.batch(BATCH_SIZE)\n",
    "train_dataset = train_dataset.prefetch(PREFETCH_COUNT)"
   ]
  },
  {
   "cell_type": "code",
   "execution_count": 9,
   "metadata": {
    "colab": {},
    "colab_type": "code",
    "id": "7-OAQB-0jb-r"
   },
   "outputs": [],
   "source": [
    "test_dataset = test_dataset.map(format_eval_example,\n",
    "                                num_parallel_calls=N_THREADS)\n",
    "test_dataset = test_dataset.repeat(-1)\n",
    "test_dataset = test_dataset.batch(BATCH_SIZE)"
   ]
  },
  {
   "cell_type": "code",
   "execution_count": 10,
   "metadata": {
    "colab": {
     "base_uri": "https://localhost:8080/",
     "height": 51
    },
    "colab_type": "code",
    "executionInfo": {
     "elapsed": 24373,
     "status": "ok",
     "timestamp": 1570473651568,
     "user": {
      "displayName": "Timothy Liu SG",
      "photoUrl": "",
      "userId": "04327513636844080478"
     },
     "user_tz": -480
    },
    "id": "YAwj90pGOIAy",
    "outputId": "8dfaabf3-1eab-402b-9897-42a0a45235a8"
   },
   "outputs": [
    {
     "name": "stdout",
     "output_type": "stream",
     "text": [
      "Downloading data from https://github.com/keras-team/keras-applications/releases/download/resnet/resnet50_weights_tf_dim_ordering_tf_kernels_notop.h5\n",
      "94773248/94765736 [==============================] - 6s 0us/step\n"
     ]
    }
   ],
   "source": [
    "model = create_model(IMG_SIZE, num_class, train_base=True)\n",
    "opt = tf.keras.optimizers.Adam()\n",
    "\n",
    "model.compile(loss=\"categorical_crossentropy\",\n",
    "              optimizer=opt,\n",
    "              metrics=[\"acc\"])\n",
    "\n",
    "#model.summary()"
   ]
  },
  {
   "cell_type": "code",
   "execution_count": 11,
   "metadata": {
    "colab": {},
    "colab_type": "code",
    "id": "0vRtm2rORBHf"
   },
   "outputs": [],
   "source": [
    "steps_per_epoch = num_train//BATCH_SIZE\n",
    "steps_test = num_test//BATCH_SIZE\n",
    "\n",
    "time_callback = TimeHistory()"
   ]
  },
  {
   "cell_type": "code",
   "execution_count": 12,
   "metadata": {
    "colab": {
     "base_uri": "https://localhost:8080/",
     "height": 153
    },
    "colab_type": "code",
    "executionInfo": {
     "elapsed": 132772,
     "status": "ok",
     "timestamp": 1570473759978,
     "user": {
      "displayName": "Timothy Liu SG",
      "photoUrl": "",
      "userId": "04327513636844080478"
     },
     "user_tz": -480
    },
    "id": "7T8VVrn4Q12B",
    "outputId": "d5b7a7c7-0970-45ef-898e-283abfe787a6"
   },
   "outputs": [
    {
     "name": "stdout",
     "output_type": "stream",
     "text": [
      "Train for 46 steps\n",
      "Epoch 1/5\n",
      "46/46 [==============================] - 63s 1s/step - loss: 1.8270 - acc: 0.4777\n",
      "Epoch 2/5\n",
      "46/46 [==============================] - 36s 773ms/step - loss: 0.6667 - acc: 0.7905\n",
      "Epoch 3/5\n",
      "46/46 [==============================] - 38s 832ms/step - loss: 0.3448 - acc: 0.8889\n",
      "Epoch 4/5\n",
      "46/46 [==============================] - 37s 807ms/step - loss: 0.2233 - acc: 0.9321\n",
      "Epoch 5/5\n",
      "46/46 [==============================] - 37s 812ms/step - loss: 0.1526 - acc: 0.9552\n"
     ]
    },
    {
     "data": {
      "text/plain": [
       "<tensorflow.python.keras.callbacks.History at 0x7fd0789c4e48>"
      ]
     },
     "execution_count": 12,
     "metadata": {},
     "output_type": "execute_result"
    }
   ],
   "source": [
    "model.fit(train_dataset, steps_per_epoch=steps_per_epoch,\n",
    "          epochs=5, callbacks=[time_callback], verbose=1)"
   ]
  },
  {
   "cell_type": "code",
   "execution_count": 13,
   "metadata": {
    "colab": {},
    "colab_type": "code",
    "id": "X9rz7x6GPP29"
   },
   "outputs": [],
   "source": [
    "# There is currently a bug with model.evaluate()\n",
    "# Follow: https://github.com/tensorflow/tensorflow/issues/33090\n",
    "\n",
    "#model.evaluate(train_dataset, steps=steps_per_epoch)"
   ]
  },
  {
   "cell_type": "code",
   "execution_count": 14,
   "metadata": {
    "colab": {},
    "colab_type": "code",
    "id": "21CjKwKsjIiy"
   },
   "outputs": [
    {
     "name": "stdout",
     "output_type": "stream",
     "text": [
      "Peak Img/s: 103.0\n"
     ]
    }
   ],
   "source": [
    "epoch_time = min(time_callback.times)\n",
    "img_per_sec = num_train//epoch_time\n",
    "\n",
    "print(\"Peak Img/s:\", img_per_sec)"
   ]
  },
  {
   "cell_type": "code",
   "execution_count": null,
   "metadata": {},
   "outputs": [],
   "source": []
  }
 ],
 "metadata": {
  "accelerator": "GPU",
  "colab": {
   "collapsed_sections": [
    "laUXS-24UvPM"
   ],
   "name": "tf_pet_base.ipynb",
   "provenance": [],
   "toc_visible": true
  },
  "kernelspec": {
   "display_name": "Python 3",
   "language": "python",
   "name": "python3"
  },
  "language_info": {
   "codemirror_mode": {
    "name": "ipython",
    "version": 3
   },
   "file_extension": ".py",
   "mimetype": "text/x-python",
   "name": "python",
   "nbconvert_exporter": "python",
   "pygments_lexer": "ipython3",
   "version": "3.6.7"
  }
 },
 "nbformat": 4,
 "nbformat_minor": 4
}
